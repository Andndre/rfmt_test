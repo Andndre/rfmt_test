{
 "cells": [
  {
   "cell_type": "code",
   "execution_count": 42,
   "id": "58b0d0ee",
   "metadata": {},
   "outputs": [],
   "source": [
    "import pandas as pd\n",
    "from sklearn.preprocessing import StandardScaler\n",
    "from datetime import datetime\n",
    "import seaborn as sns\n",
    "import matplotlib.pyplot as plt\n"
   ]
  },
  {
   "cell_type": "markdown",
   "id": "e1531875",
   "metadata": {},
   "source": [
    "# Membaca dan menyiapkan data"
   ]
  },
  {
   "cell_type": "code",
   "execution_count": 43,
   "id": "f2e16d16",
   "metadata": {},
   "outputs": [
    {
     "name": "stdout",
     "output_type": "stream",
     "text": [
      "      ID Pelanggan  Kode Pos Tanggal Transaksi Pertama  \\\n",
      "0  112345678900001     80236                2023-01-15   \n",
      "1  112345678900002     80236                2022-09-20   \n",
      "2  112345678900003     80236                2023-03-05   \n",
      "3  112345678900004     80236                2022-06-10   \n",
      "4  112345678900005     80236                2023-08-25   \n",
      "\n",
      "  Tanggal Transaksi Terakhir  Frekuensi Pembelian  Total Pembelian (Rp)  \n",
      "0                 2024-12-10                    8              10500000  \n",
      "1                 2024-12-20                   10              17500000  \n",
      "2                 2024-12-01                    5               7200000  \n",
      "3                 2024-11-15                   12              19300000  \n",
      "4                 2025-01-10                    6               9800000  \n"
     ]
    }
   ],
   "source": [
    "# 1. Baca dan siapkan data\n",
    "df = pd.read_csv('data_pelanggan_sampel.csv')\n",
    "df['Tanggal Transaksi Terakhir'] = pd.to_datetime(df['Tanggal Transaksi Terakhir'])\n",
    "df['Tanggal Transaksi Pertama'] = pd.to_datetime(df['Tanggal Transaksi Pertama'])\n",
    "today = pd.Timestamp(datetime.today().date())\n",
    "\n",
    "print(df.head())"
   ]
  },
  {
   "cell_type": "markdown",
   "id": "aa7eacb9",
   "metadata": {},
   "source": [
    "## Menghitung RFMT (Recency, Frequency, Monetary, Tenure)\n",
    "\n",
    "Kita ingin memahami seberapa \"berharga\" setiap pelanggan. Maka kita hitung 4 hal yang sering dipakai dalam dunia bisnis:\n",
    "\n",
    "### Recency: Seberapa lama sejak pelanggan terakhir membeli?\n",
    "\n",
    "- Kalau pelanggan terakhir belanja 10 hari yang lalu, berarti masih aktif.\n",
    "- Tapi kalau sudah 400 hari tidak beli, artinya sudah lama tidak aktif.\n",
    "\n",
    "### Frequency: Seberapa sering pelanggan melakukan pembelian?\n",
    "- Kalau beli 1 kali doang = kurang setia.\n",
    "- Kalau beli 10 kali = sering belanja.\n",
    "\n",
    "### Monetary: Total uang yang dibelanjakan oleh pelanggan.\n",
    "- Semakin besar total uangnya, makin bernilai pelanggan tersebut.\n",
    "\n",
    "### Tenure: Sudah berapa lama pelanggan tersebut bersama kita (dari pembelian pertamanya).\n",
    "- Misal pelanggan sudah beli sejak 2 tahun lalu, berarti \"umur\" pelanggannya panjang.\n"
   ]
  },
  {
   "cell_type": "code",
   "execution_count": 44,
   "id": "19f31cb3",
   "metadata": {},
   "outputs": [
    {
     "name": "stdout",
     "output_type": "stream",
     "text": [
      "   Recency  Frequency  Monetary  Tenure\n",
      "0      155          8  10500000     850\n",
      "1      145         10  17500000     967\n",
      "2      164          5   7200000     801\n",
      "3      180         12  19300000    1069\n",
      "4      124          6   9800000     628\n"
     ]
    }
   ],
   "source": [
    "#2 Hitung RFMT\n",
    "df['Recency'] = (today - df['Tanggal Transaksi Terakhir']).dt.days\n",
    "df['Frequency'] = df['Frekuensi Pembelian']\n",
    "df['Monetary'] = df['Total Pembelian (Rp)']\n",
    "df['Tenure'] = (today - df['Tanggal Transaksi Pertama']).dt.days\n",
    "\n",
    "print (df[['Recency', 'Frequency', 'Monetary', 'Tenure']].head())"
   ]
  },
  {
   "cell_type": "markdown",
   "id": "b82884b6",
   "metadata": {},
   "source": [
    "## Agregasi per kode pos\n",
    "\n",
    "- Di sini, kita ingin menganalisis pelanggan berdasarkan area tempat tinggalnya, yaitu berdasarkan kode pos.\n",
    "- Kita menggabungkan (mengelompokkan) data berdasarkan 'Kode Pos'. Misalnya, semua pelanggan yang tinggal di 80114 digabung jadi satu baris.\n",
    "\n",
    "Kenapa setiap nilai diperlakukan berbeda?\n",
    "- Recency = kita ambil nilai minimum (yang paling baru belanjanya di area itu). Karena semakin kecil angkanya, berarti masih aktif.\n",
    "- Frequency & Monetary = kita jumlahkan, karena kita ingin tahu total pembelian dan frekuensinya untuk satu area.\n",
    "- Tenure = kita ambil maksimum (umur pelanggan tertua), karena itu memberi gambaran loyalitas tertinggi di daerah itu."
   ]
  },
  {
   "cell_type": "code",
   "execution_count": 45,
   "id": "60bc282e",
   "metadata": {},
   "outputs": [],
   "source": [
    "# 3. Agregasi per kode pos\n",
    "rfmt_agg = df.groupby('Kode Pos').agg({\n",
    "    'Recency': 'min',\n",
    "    'Frequency': 'sum',\n",
    "    'Monetary': 'sum',\n",
    "    'Tenure': 'max'\n",
    "}).reset_index()"
   ]
  },
  {
   "cell_type": "markdown",
   "id": "30d2fd1b",
   "metadata": {},
   "source": [
    "## Normalisasi Nilai RFMT dengan Z-Score\n",
    "\n",
    "Tujuan: Menyamakan skala antar nilai Recency, Frequency, Monetary, dan Tenure.\n",
    "\n",
    "Masalah saat ini:\n",
    "- Recency bisa bernilai 10 (hari),\n",
    "- Frequency bisa 200 kali,\n",
    "- Monetary bisa 50 juta rupiah,\n",
    "- Tenure bisa 800 hari.\n",
    "\n",
    "Angka-angka ini besarannya beda-beda, jadi tidak bisa dibandingkan langsung. Kita butuh menyamakan skala.\n",
    "\n",
    "### Solusinya: kita pakai metode bernama Z-score.\n",
    "Z-score merupakan “nilai standar” yang memberitahu kita:\n",
    "“Seberapa jauh nilai ini dari rata-rata?”\n",
    "\n",
    "Contoh:\n",
    "- Jika R_z = -1 -> berarti recency di kode pos ini lebih kecil dari rata-rata (pelanggan masih baru belanja).\n",
    "- Jika F_z = +2 -> berarti frekuensinya jauh di atas rata-rata (pelanggan sering belanja).\n"
   ]
  },
  {
   "cell_type": "markdown",
   "id": "35cde498",
   "metadata": {},
   "source": [
    "# Mengubah Z-Score Menjadi Skor 1–5\n",
    "\n",
    "Tujuan: Mengubah angka Z-score yang bisa negatif/positif menjadi angka diskrit (bulat) dari 1 sampai 5.\n",
    "\n",
    "### Kenapa?\n",
    "Karena kita akan melakukan segmentasi pelanggan, jadi kita butuh angka bulat yang mudah dibaca dan dibagi ke dalam kategori.\n",
    "\n",
    "\n",
    "Kita akan membagi data jadi 5 kelompok ukuran sama:\n",
    "- Kelompok dengan nilai paling kecil -> mendapat skor 1\n",
    "- Kelompok dengan nilai paling tinggi -> mendapat skor 5\n",
    "\n",
    "Misalnya:\n",
    "- Kolom Recency -> makin kecil makin bagus (berarti baru saja belanja) -> nilai rendah = skor tinggi\n",
    "- Tapi karena Z-score bisa + dan −, kita tidak pusing bolak-balik — cukup biarkan Python membaginya ke dalam 5 bagian."
   ]
  },
  {
   "cell_type": "code",
   "execution_count": 46,
   "id": "15d662db",
   "metadata": {},
   "outputs": [
    {
     "name": "stdout",
     "output_type": "stream",
     "text": [
      "        R_z       F_z       M_z       T_z\n",
      "0 -0.796098  1.460993  1.502321  1.873180\n",
      "1  1.779513  0.495579  0.326609 -0.863609\n",
      "2 -0.796098 -0.920361 -0.982574 -0.103390\n",
      "3 -1.498537  1.042647  1.035177  0.352742\n",
      "4  0.842927 -1.242166 -1.190630 -0.589930\n"
     ]
    }
   ],
   "source": [
    "# 4. Z-score normalization\n",
    "scaler = StandardScaler()\n",
    "rfmt_values = rfmt_agg[['Recency', 'Frequency', 'Monetary', 'Tenure']]\n",
    "rfmt_scaled = scaler.fit_transform(rfmt_values)\n",
    "rfmt_scaled_df = pd.DataFrame(rfmt_scaled, columns=['R_z', 'F_z', 'M_z', 'T_z'])\n",
    "\n",
    "print(rfmt_scaled_df.head())"
   ]
  },
  {
   "cell_type": "code",
   "execution_count": 47,
   "id": "b5373f61",
   "metadata": {},
   "outputs": [],
   "source": [
    "# 5. Skor 1-5 berdasarkan z-score (binned secara kuantil)\n",
    "rfmt_scores = rfmt_scaled_df.copy()\n",
    "for col in rfmt_scores.columns:\n",
    "    rfmt_scores[col] = pd.qcut(rfmt_scores[col], 5, labels=[1, 2, 3, 4, 5])\n"
   ]
  },
  {
   "cell_type": "code",
   "execution_count": 48,
   "id": "f6ebcd4c",
   "metadata": {},
   "outputs": [
    {
     "name": "stdout",
     "output_type": "stream",
     "text": [
      "   Kode Pos  Recency  Frequency   Monetary  Tenure  R  F  M  T\n",
      "0     80236      122        123  200100000    1069  1  5  5  5\n",
      "1     80237      133         93  140200000     979  5  4  3  1\n",
      "2     80238      122         49   73500000    1004  1  2  2  3\n",
      "3     80239      119        110  176300000    1019  1  5  5  4\n",
      "4     80240      129         39   62900000     988  4  1  1  2\n"
     ]
    }
   ],
   "source": [
    "# 6. Gabungkan ke data utama\n",
    "rfmt_final = pd.concat([rfmt_agg, rfmt_scores], axis=1)\n",
    "rfmt_final.rename(columns={'R_z': 'R', 'F_z': 'F', 'M_z': 'M', 'T_z': 'T'}, inplace=True)\n",
    "\n",
    "print(rfmt_final.head())"
   ]
  },
  {
   "cell_type": "markdown",
   "id": "f51fc4f4",
   "metadata": {},
   "source": [
    "## Segmentasi manual\n",
    "\n",
    "Sekarang kita ingin memberi label atau \"segmentasi\" kepada setiap kode pos, berdasarkan kombinasi skor R, F, M, T:\n",
    "- Pelanggan yang nilai R, F, dan M-nya tinggi kemungkinan besar adalah pelanggan terbaik.\n",
    "- Pelanggan yang R-nya rendah (lama tak belanja) bisa jadi mulai \"hibernasi\" atau bahkan sudah \"churn\" (hilang).\n",
    "- Pelanggan baru biasanya punya R tinggi, tapi F dan M masih rendah.\n",
    "\n",
    "Kita bisa gunakan aturan manual berdasarkan pengalaman marketing.\n",
    "Contoh:\n",
    "- R ≥ 4, F ≥ 4, M ≥ 4 → Best Customer\n",
    "- F ≥ 4 dan M ≥ 3 → Loyal Spender\n",
    "- R = 1 dan F ≤ 2 → Hibernating"
   ]
  },
  {
   "cell_type": "code",
   "execution_count": 49,
   "id": "6836e5b2",
   "metadata": {},
   "outputs": [
    {
     "name": "stdout",
     "output_type": "stream",
     "text": [
      "   Kode Pos  Recency  Frequency   Monetary  Tenure        Segment\n",
      "0     80236      122        123  200100000    1069  Loyal Spender\n",
      "1     80237      133         93  140200000     979  Loyal Spender\n",
      "2     80238      122         49   73500000    1004    Hibernating\n",
      "3     80239      119        110  176300000    1019  Loyal Spender\n",
      "4     80240      129         39   62900000     988   New Customer\n"
     ]
    }
   ],
   "source": [
    "# 7. Segmentasi manual\n",
    "def assign_segment(row):\n",
    "    r, f, m, t = int(row['R']), int(row['F']), int(row['M']), int(row['T'])\n",
    "    if r >= 4 and f >= 4 and m >= 4:\n",
    "        return 'Best Customer'\n",
    "    elif f >= 4 and m >= 3:\n",
    "        return 'Loyal Spender'\n",
    "    elif r >= 4 and (f >= 3 or t >= 3):\n",
    "        return 'Potential Loyalist'\n",
    "    elif r >= 4:\n",
    "        return 'New Customer'\n",
    "    elif f >= 4:\n",
    "        return 'Loyal Customer'\n",
    "    elif r >= 3 and f >= 2:\n",
    "        return 'Promising'\n",
    "    elif r >= 2 and (f >= 2 or t >= 2):\n",
    "        return 'Can Not Lose'\n",
    "    elif r == 2 and f <= 2:\n",
    "        return 'About to Sleep'\n",
    "    elif r == 1 and f <= 2:\n",
    "        return 'Hibernating'\n",
    "    else:\n",
    "        return 'Churner'\n",
    "\n",
    "rfmt_final['Segment'] = rfmt_final.apply(assign_segment, axis=1)\n",
    "\n",
    "print (rfmt_final[['Kode Pos', 'Recency', 'Frequency', 'Monetary', 'Tenure', 'Segment']].head())\n"
   ]
  },
  {
   "cell_type": "code",
   "execution_count": 50,
   "id": "5ab2aa5a",
   "metadata": {},
   "outputs": [
    {
     "name": "stdout",
     "output_type": "stream",
     "text": [
      "\n",
      "Skor RFMT (nilai asli sebelum diskretisasi):\n",
      "   Kode Pos  Recency  Frequency   Monetary  Tenure\n",
      "0     80236      122        123  200100000    1069\n",
      "1     80237      133         93  140200000     979\n",
      "2     80238      122         49   73500000    1004\n",
      "3     80239      119        110  176300000    1019\n",
      "4     80240      129         39   62900000     988\n",
      "5     80241      124         92  148900000    1024\n",
      "6     80242      131         28   44800000     942\n",
      "7     80243      127         56   87300000     997\n",
      "8     80244      122         79  126200000    1013\n",
      "9     80245      125        107  175400000    1039\n"
     ]
    }
   ],
   "source": [
    "# 8. Tampilkan hasil RFMT asli\n",
    "print(\"\\nSkor RFMT (nilai asli sebelum diskretisasi):\")\n",
    "print(rfmt_final[['Kode Pos', 'Recency', 'Frequency', 'Monetary', 'Tenure']].head(10))"
   ]
  },
  {
   "cell_type": "code",
   "execution_count": 51,
   "id": "75e2d511",
   "metadata": {},
   "outputs": [
    {
     "data": {
      "image/png": "[encoded data removed]",
      "text/plain": [
       "<Figure size 800x600 with 1 Axes>"
      ]
     },
     "metadata": {},
     "output_type": "display_data"
    }
   ],
   "source": [
    "# 9. Visualisasi pie chart segmen pelanggan\n",
    "import matplotlib.pyplot as plt\n",
    "\n",
    "segment_counts = rfmt_final['Segment'].value_counts()\n",
    "plt.figure(figsize=(8, 6))\n",
    "plt.pie(segment_counts, labels=segment_counts.index, autopct='%1.1f%%', startangle=140)\n",
    "plt.title('Distribusi Segmen Pelanggan Berdasarkan RFMT')\n",
    "plt.axis('equal')\n",
    "plt.show()"
   ]
  },
  {
   "cell_type": "code",
   "execution_count": 52,
   "id": "3b0737b4",
   "metadata": {},
   "outputs": [
    {
     "data": {
      "image/png": "[encoded data removed]",
      "text/plain": [
       "<Figure size 1000x600 with 1 Axes>"
      ]
     },
     "metadata": {},
     "output_type": "display_data"
    }
   ],
   "source": [
    "# 10. Bar chart untuk jumlah pelanggan per segmen\n",
    "plt.figure(figsize=(10, 6))\n",
    "sns.countplot(data=rfmt_final, y='Segment', order=rfmt_final['Segment'].value_counts().index)\n",
    "plt.title('Jumlah Pelanggan per Segmen')\n",
    "plt.xlabel('Jumlah')\n",
    "plt.ylabel('Segmen')\n",
    "plt.show()"
   ]
  }
 ],
 "metadata": {
  "kernelspec": {
   "display_name": "Python 3",
   "language": "python",
   "name": "python3"
  },
  "language_info": {
   "codemirror_mode": {
    "name": "ipython",
    "version": 3
   },
   "file_extension": ".py",
   "mimetype": "text/x-python",
   "name": "python",
   "nbconvert_exporter": "python",
   "pygments_lexer": "ipython3",
   "version": "3.13.1"
  }
 },
 "nbformat": 4,
 "nbformat_minor": 5
}
